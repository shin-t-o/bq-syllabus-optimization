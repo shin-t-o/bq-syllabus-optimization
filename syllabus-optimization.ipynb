{
 "cells": [
  {
   "cell_type": "code",
   "execution_count": 17,
   "metadata": {},
   "outputs": [
    {
     "ename": "ImportError",
     "evalue": "cannot import name 'opt'",
     "output_type": "error",
     "traceback": [
      "\u001b[1;31m---------------------------------------------------------------------------\u001b[0m",
      "\u001b[1;31mImportError\u001b[0m                               Traceback (most recent call last)",
      "\u001b[1;32m<ipython-input-17-8d4cee435694>\u001b[0m in \u001b[0;36m<module>\u001b[1;34m\u001b[0m\n\u001b[0;32m      2\u001b[0m \u001b[1;32mimport\u001b[0m \u001b[0mnumpy\u001b[0m \u001b[1;32mas\u001b[0m \u001b[0mnp\u001b[0m\u001b[1;33m\u001b[0m\u001b[1;33m\u001b[0m\u001b[0m\n\u001b[0;32m      3\u001b[0m \u001b[1;32mimport\u001b[0m \u001b[0mmatplotlib\u001b[0m\u001b[1;33m.\u001b[0m\u001b[0mpyplot\u001b[0m \u001b[1;32mas\u001b[0m \u001b[0mplt\u001b[0m\u001b[1;33m\u001b[0m\u001b[1;33m\u001b[0m\u001b[0m\n\u001b[1;32m----> 4\u001b[1;33m \u001b[1;32mfrom\u001b[0m \u001b[0mblueqat\u001b[0m \u001b[1;32mimport\u001b[0m \u001b[0mopt\u001b[0m\u001b[1;33m\u001b[0m\u001b[1;33m\u001b[0m\u001b[0m\n\u001b[0m\u001b[0;32m      5\u001b[0m \u001b[0mget_ipython\u001b[0m\u001b[1;33m(\u001b[0m\u001b[1;33m)\u001b[0m\u001b[1;33m.\u001b[0m\u001b[0mrun_line_magic\u001b[0m\u001b[1;33m(\u001b[0m\u001b[1;34m'matplotlib'\u001b[0m\u001b[1;33m,\u001b[0m \u001b[1;34m'inline'\u001b[0m\u001b[1;33m)\u001b[0m\u001b[1;33m\u001b[0m\u001b[1;33m\u001b[0m\u001b[0m\n",
      "\u001b[1;31mImportError\u001b[0m: cannot import name 'opt'"
     ]
    }
   ],
   "source": [
    "import pandas as pd\n",
    "import numpy as np\n",
    "import matplotlib.pyplot as plt\n",
    "from blueqat import opt\n",
    "%matplotlib inline"
   ]
  },
  {
   "cell_type": "code",
   "execution_count": 15,
   "metadata": {},
   "outputs": [],
   "source": [
    "import blueqat as bq"
   ]
  },
  {
   "cell_type": "code",
   "execution_count": null,
   "metadata": {},
   "outputs": [],
   "source": [
    "a = bq."
   ]
  },
  {
   "cell_type": "markdown",
   "metadata": {},
   "source": [
    "最小化対象:  \n",
    "$ \\displaystyle　\\sum_{ i = 1 }^{ N } w_i x_i,　x_i \\in \\{0, 1\\} $\n",
    "<br>\n",
    "<br>\n",
    "subject to:  \n",
    "$ \\displaystyle　\\sum_{ i = 1 }^{ N } u_i x_i \\geq U $\n",
    "<br>\n",
    "<br>\n",
    "$\\implies$最小化対象:  \n",
    "$ \\displaystyle　\\sum_{ i = 1 }^{ N } w_i x_i + \\alpha (\\sum_{ i = 1 }^{ N } u_i x_i - U)^2 $\n",
    "<br>\n",
    "<br>\n",
    "$\\implies$最小化対象（変形後）:  \n",
    "$ \\displaystyle　\\mathbf{x}^T \\mathbf{w} + \\alpha\\{\\mathbf{x}^T \\mathbf{u} - (5 + \\lambda_{1} + \\lambda_{2} + \\lambda_{3})\\}^2,　\\lambda_j \\in \\{0, 1\\}  $  \n",
    "<br>\n",
    "※「高々最低取得単位数よりも3多い程度に収まるだろう」という想定のもと、λを3個に制限"
   ]
  },
  {
   "cell_type": "markdown",
   "metadata": {},
   "source": [
    "最適化対象の式に対して、  \n",
    "$ \\mathbf{P} = \\mathbf{x}^T C \\mathbf{x} $  \n",
    "の形になるよう式変形を行う\n",
    "<br>\n",
    "<br>\n",
    "$$\n",
    "    \\mathbf{C} =\n",
    "        \\left(\\begin{array}{ccc}\n",
    "            w_{1} + \\alpha u_{1}^2 - 10u_{1}& 2\\alpha u_{1}u_{2} & 0 & \\cdots & 0 & -2\\alpha u_{1} & \\cdots　& & -2\\alpha u_{1} \\\\\n",
    "            & \\ddots & 2\\alpha u_{2}u_{3} & \\ddots & \\vdots & \\vdots & & & \\vdots \\\\\n",
    "            & & \\ddots & & 0 \\\\\n",
    "            & & & \\ddots & 2\\alpha u_{N-1}u_{N}\\\\\n",
    "            & & & &  w_{N}+\\alpha u_{N}^2 - 10u_{N} & -2\\alpha u_{N} & \\cdots　& & -2\\alpha u_{N}  \\\\\n",
    "            & & & & & 11\\alpha & 2\\alpha & \\cdots & 2\\alpha \\\\\n",
    "            & & & & & & 11\\alpha & & \\vdots \\\\\n",
    "            & & & & & & & \\ddots & 2\\alpha\\\\\n",
    "            & & & & & & & & 11\\alpha   \\\\\n",
    "        \\end{array}\\right)\n",
    "$$"
   ]
  },
  {
   "cell_type": "code",
   "execution_count": 21,
   "metadata": {},
   "outputs": [],
   "source": [
    "# u_i : 科目iの履修による取得単位数\n",
    "u = [1, 3, 2, 2, 1]\n",
    "\n",
    "# w_i : 科目iの単位取得難易度＝単位取得所要時間（工数）\n",
    "w = [1, 5, 3, 1, 2]\n",
    "\n",
    "# 行列サイズ\n",
    "N = len(u)\n",
    "# 必要取得単位数 : 5で固定\n",
    "# 最低取得単位数+3まで許容する\n",
    "U = 3\n",
    "# 最適化パラメータα\n",
    "alpha = 5"
   ]
  },
  {
   "cell_type": "code",
   "execution_count": 22,
   "metadata": {},
   "outputs": [],
   "source": [
    "def get_qubo(u: list,w: list, N: int, U: int):\n",
    "    \n",
    "    # 行列の合計サイズ\n",
    "    size = N + U\n",
    "    qubo = np.zeros((size, size))\n",
    "    \n",
    "    # 1. x vector part\n",
    "    # 対角成分\n",
    "    for i in range(N):\n",
    "        for j in range(N):\n",
    "            if j >= i + 1:\n",
    "                qubo[i][j] = w[i] + alpha * (u[i] ** 2) - 10 * alpha * u[i]\n",
    "   # 上三角行列部分\n",
    "    for i in range(N):\n",
    "        for j in range(N):\n",
    "            if j == i + 1:\n",
    "                qubo[i][j] = 2 * alpha * u[i] * u[i + 1]\n",
    "    for i in range(N):\n",
    "        for j in range(N, N + U):\n",
    "            qubo[i][j] = -2 * alpha * u[i]\n",
    "                \n",
    "    # 2. lambda vector part\n",
    "    # 対角成分\n",
    "    for i in range(N, N + U):\n",
    "        for j in range(N, N + U):\n",
    "            if j == i:\n",
    "                qubo[i][j] = 11 * alpha\n",
    "    # 上三角行列部分\n",
    "    for i in range(N, N + U):\n",
    "        for j in range(N, N + U):\n",
    "            if j >= i + 1:\n",
    "                qubo[i][j] = 2 * alpha\n",
    "                \n",
    "    return qubo"
   ]
  },
  {
   "cell_type": "code",
   "execution_count": 23,
   "metadata": {},
   "outputs": [
    {
     "data": {
      "text/plain": [
       "array([[ -89.,   60.,    0.,    0.,    0.,  -20.,  -20.,  -20.],\n",
       "       [   0., -205.,  120.,    0.,    0.,  -60.,  -60.,  -60.],\n",
       "       [   0.,    0., -157.,   80.,    0.,  -40.,  -40.,  -40.],\n",
       "       [   0.,    0.,    0., -159.,   40.,  -40.,  -40.,  -40.],\n",
       "       [   0.,    0.,    0.,    0.,  -88.,  -20.,  -20.,  -20.],\n",
       "       [   0.,    0.,    0.,    0.,    0.,  110.,   20.,   20.],\n",
       "       [   0.,    0.,    0.,    0.,    0.,    0.,  110.,   20.],\n",
       "       [   0.,    0.,    0.,    0.,    0.,    0.,    0.,  110.]])"
      ]
     },
     "execution_count": 23,
     "metadata": {},
     "output_type": "execute_result"
    }
   ],
   "source": [
    "qubo = get_qubo(u, w, N, U)\n",
    "qubo"
   ]
  },
  {
   "cell_type": "code",
   "execution_count": 24,
   "metadata": {},
   "outputs": [
    {
     "data": {
      "text/plain": [
       "Counter({'11111111': 100})"
      ]
     },
     "execution_count": 24,
     "metadata": {},
     "output_type": "execute_result"
    }
   ],
   "source": [
    "a = opt.opt() \n",
    "a.qubo = qubo\n",
    "result = a.sa(shots = 100, sampler = \"fast\")\n",
    "opt.counter(result)"
   ]
  },
  {
   "cell_type": "markdown",
   "metadata": {},
   "source": [
    "ってこれ、、、最大化じゃなくて最小化問題だからナップサック問題向けのQUBO解法がそのまま使えるわけじゃないじゃん、、、"
   ]
  },
  {
   "cell_type": "code",
   "execution_count": null,
   "metadata": {},
   "outputs": [],
   "source": []
  }
 ],
 "metadata": {
  "kernelspec": {
   "display_name": "Python 3",
   "language": "python",
   "name": "python3"
  },
  "toc": {
   "base_numbering": 1,
   "nav_menu": {},
   "number_sections": true,
   "sideBar": true,
   "skip_h1_title": false,
   "title_cell": "Table of Contents",
   "title_sidebar": "Contents",
   "toc_cell": false,
   "toc_position": {},
   "toc_section_display": true,
   "toc_window_display": false
  }
 },
 "nbformat": 4,
 "nbformat_minor": 2
}
