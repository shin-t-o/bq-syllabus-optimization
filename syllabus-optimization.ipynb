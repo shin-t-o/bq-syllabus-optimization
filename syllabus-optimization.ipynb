{
 "cells": [
  {
   "cell_type": "code",
   "execution_count": 70,
   "metadata": {},
   "outputs": [],
   "source": [
    "import numpy as np\n",
    "from blueqat import opt\n",
    "%matplotlib inline"
   ]
  },
  {
   "cell_type": "markdown",
   "metadata": {},
   "source": [
    "\n",
    "====================================  \n",
    "大学生活における「最小努力で必要単位数を取得する」ケースについて考える。  \n",
    "  \n",
    "或る履修可能科目群があるとして、その履修によって得られる単位を$u_i$、  \n",
    "それらを取得するために必要な工数（いわゆる「逆評定」の評価を数値化したもの）を$w_i$とし、  \n",
    "科目$i$を履修するか否かを$x_i$で表すとする。  \n",
    "  \n",
    "最低でも$U$単位は取得しなければならないという前提条件にたつと、  \n",
    "これは取得単位の制約条件を満たしつつ総工数を最小化する最適化問題と考えられる。  \n",
    "\n",
    "====================================  \n"
   ]
  },
  {
   "cell_type": "markdown",
   "metadata": {},
   "source": [
    "最小化対象:  \n",
    "$ \\displaystyle　\\sum_{ i = 1 }^{ N } w_i x_i,　x_i \\in \\{0, 1\\} $\n",
    "<br>\n",
    "<br>\n",
    "subject to:  \n",
    "$ \\displaystyle　\\sum_{ i = 1 }^{ N } u_i x_i \\geq U $\n",
    "<br>\n",
    "<br>\n",
    "$\\implies$最小化対象:  \n",
    "$ \\displaystyle　\\sum_{ i = 1 }^{ N } w_i x_i + \\alpha (\\sum_{ i = 1 }^{ N } u_i x_i - U)^2 $\n",
    "<br>  \n",
    "このままでは  \n",
    "- 取得単位に1満たなかった場合\n",
    "- 取得単位を1超えた場合  \n",
    "を同様の重みで評価してしまうため、若干の変形を加える\n",
    "<br>\n",
    "<br>\n",
    "\n",
    "$\\implies$最小化対象（変形後）:  \n",
    "$ \\displaystyle　\\sum_{ i = 1 }^{ N } w_i x_i + \\alpha (\\sum_{ i = 1 }^{ N } u_i x_i - (U + \\sum_{ j = 1 }^{ 3 } \\lambda_j))^2 $  \n",
    "$\\implies$  \n",
    "$ \\displaystyle　\\mathbf{x}^T \\mathbf{w} + \\alpha\\{\\mathbf{x}^T \\mathbf{u} - (5 + \\mathbf{\\lambda})\\}^2,　\\lambda_j \\in \\{0, 1\\}  $  \n",
    "<br>\n",
    "<br>\n",
    "※「高々最低取得単位数よりも3多い程度に収まるだろう」という想定のもと、チューニングパラメータ$\\lambda$を3個に制限  \n",
    "　⇒第1項の最小化を考えると$x_i=0　(for　\\forall i)$ となってしまうため、$\\alpha$値のバランス調整が難しい…"
   ]
  },
  {
   "cell_type": "markdown",
   "metadata": {},
   "source": [
    "そして最適化対象の式に対して、  \n",
    "$ \\mathbf{P} = \\mathbf{x}^T C \\mathbf{x} $  \n",
    "の形になるよう式変形を行う\n",
    "<br>\n",
    "<br>\n",
    "$$\n",
    "    \\mathbf{C} =\n",
    "        \\left(\\begin{array}{ccc}\n",
    "            w_{1} + \\alpha u_{1}^2 - 10u_{1}& 2\\alpha u_{1}u_{2} & 2\\alpha u_{1}u_{3} & \\cdots & 2\\alpha u_{1}u_{N} & -2\\alpha u_{1} & \\cdots　& & -2\\alpha u_{1} \\\\\n",
    "            & \\ddots & 2\\alpha u_{2}u_{3} & \\ddots & \\vdots & \\vdots & & & \\vdots \\\\\n",
    "            & & \\ddots & & 2\\alpha u_{N-2}u_{N-1} \\\\\n",
    "            & & & \\ddots & 2\\alpha u_{N-1}u_{N}\\\\\n",
    "            & & & &  w_{N}+\\alpha u_{N}^2 - 10u_{N} & -2\\alpha u_{N} & \\cdots　& & -2\\alpha u_{N}  \\\\\n",
    "            & & & & & 11\\alpha & 2\\alpha & \\cdots & 2\\alpha \\\\\n",
    "            & & & & & & 11\\alpha & & \\vdots \\\\\n",
    "            & & & & & & & \\ddots & 2\\alpha\\\\\n",
    "            & & & & & & & & 11\\alpha   \\\\\n",
    "        \\end{array}\\right)\n",
    "$$"
   ]
  },
  {
   "cell_type": "code",
   "execution_count": 71,
   "metadata": {},
   "outputs": [],
   "source": [
    "# u_i : 科目iの履修による取得単位数\n",
    "u = [1, 3, 2, 2, 1]\n",
    "\n",
    "# w_i : 科目iの単位取得難易度＝単位取得所要時間（工数）\n",
    "w = [1, 5, 3, 1, 2]\n",
    "\n",
    "# 行列サイズ\n",
    "N = len(u)\n",
    "# 必要取得単位数 : 5で固定\n",
    "# 最低取得単位数+3まで許容する\n",
    "U = 3\n",
    "# 最適化パラメータα\n",
    "alpha = 1.5"
   ]
  },
  {
   "cell_type": "markdown",
   "metadata": {},
   "source": [
    "下記のようなテーブルが与えられていると考える。  \n",
    "\n",
    "この程度なら暗算でも確認可能であり、科目[A, C, D]の組み合わせが最小工数を取りそうである。  \n",
    "つまりシミュレーション実行結果としては$[1,0,1,1,0]$が出てくれるのが望ましい。\n",
    "<br>\n",
    "\n",
    "|  科目  |  取得単位[単位]  |  想定工数[人月]  |\n",
    "| ---- | ---- | ---- |\n",
    "|  A  |  1.0  |  1.0  |\n",
    "|  B  |  3.0  |  5.0  |\n",
    "|  C  |  2.0  |  3.0  |\n",
    "|  D  |  2.0  |  1.0  |\n",
    "|  E  |  1.0  |  2.0  |\n",
    "  \n",
    "  \n",
    "状況が整理できたので、QUBO形式である$C$を計算するため関数を定義する。"
   ]
  },
  {
   "cell_type": "code",
   "execution_count": 72,
   "metadata": {},
   "outputs": [],
   "source": [
    "def get_qubo(u: list,w: list, N: int, U: int):\n",
    "    \n",
    "    # 行列の合計サイズ\n",
    "    size = N + U\n",
    "    qubo = np.zeros((size, size))\n",
    "    \n",
    "    # 1. x vector part\n",
    "    # 対角成分\n",
    "    for i in range(N):\n",
    "        for j in range(N):\n",
    "            if j == i:\n",
    "                qubo[i][j] = w[i] + alpha * (u[i] ** 2) - 10 * alpha * u[i]\n",
    "   # 上三角行列部分\n",
    "    for i in range(N):\n",
    "        for j in range(N):\n",
    "            if j >= i + 1:\n",
    "                qubo[i][j] = 2 * alpha * u[i] * u[j]\n",
    "    for i in range(N):\n",
    "        for j in range(N, N + U):\n",
    "            qubo[i][j] = -2 * alpha * u[i]\n",
    "                \n",
    "    # 2. lambda vector part\n",
    "    # 対角成分\n",
    "    for i in range(N, N + U):\n",
    "        for j in range(N, N + U):\n",
    "            if j == i:\n",
    "                qubo[i][j] = 11 * alpha\n",
    "    # 上三角行列部分\n",
    "    for i in range(N, N + U):\n",
    "        for j in range(N, N + U):\n",
    "            if j >= i + 1:\n",
    "                qubo[i][j] = 2 * alpha\n",
    "                \n",
    "    return qubo"
   ]
  },
  {
   "cell_type": "code",
   "execution_count": 73,
   "metadata": {},
   "outputs": [
    {
     "data": {
      "text/plain": [
       "array([[-12.5,   9. ,   6. ,   6. ,   3. ,  -3. ,  -3. ,  -3. ],\n",
       "       [  0. , -26.5,  18. ,  18. ,   9. ,  -9. ,  -9. ,  -9. ],\n",
       "       [  0. ,   0. , -21. ,  12. ,   6. ,  -6. ,  -6. ,  -6. ],\n",
       "       [  0. ,   0. ,   0. , -23. ,   6. ,  -6. ,  -6. ,  -6. ],\n",
       "       [  0. ,   0. ,   0. ,   0. , -11.5,  -3. ,  -3. ,  -3. ],\n",
       "       [  0. ,   0. ,   0. ,   0. ,   0. ,  16.5,   3. ,   3. ],\n",
       "       [  0. ,   0. ,   0. ,   0. ,   0. ,   0. ,  16.5,   3. ],\n",
       "       [  0. ,   0. ,   0. ,   0. ,   0. ,   0. ,   0. ,  16.5]])"
      ]
     },
     "execution_count": 73,
     "metadata": {},
     "output_type": "execute_result"
    }
   ],
   "source": [
    "qubo = get_qubo(u, w, N, U)\n",
    "qubo"
   ]
  },
  {
   "cell_type": "code",
   "execution_count": 76,
   "metadata": {},
   "outputs": [
    {
     "data": {
      "text/plain": [
       "Counter({'01010000': 29,\n",
       "         '11100010': 1,\n",
       "         '10110000': 55,\n",
       "         '10011000': 10,\n",
       "         '11010001': 1,\n",
       "         '11010010': 1,\n",
       "         '01100000': 3})"
      ]
     },
     "execution_count": 76,
     "metadata": {},
     "output_type": "execute_result"
    }
   ],
   "source": [
    "a = opt.opt() \n",
    "a.qubo = qubo\n",
    "result = a.sa(shots = 100, sampler = \"fast\")\n",
    "opt.counter(result)"
   ]
  },
  {
   "cell_type": "markdown",
   "metadata": {},
   "source": [
    "$\\alpha$ = 1.0の場合  \n",
    "Counter({'10110000': 25,\n",
    "         '00110000': 31,\n",
    "         '10011000': 24,\n",
    "         '01010000': 19,\n",
    "         '11000000': 1})  \n",
    "\n",
    "$\\alpha$ = 1.5の場合  \n",
    "Counter({'01010000': 29,\n",
    "         '11100010': 1,\n",
    "         '10110000': 55,\n",
    "         '10011000': 10,\n",
    "         '11010001': 1,\n",
    "         '11010010': 1,\n",
    "         '01100000': 3})\n",
    "\n",
    "$\\alpha$ = 2.0の場合  \n",
    "Counter({'01010000': 23,\n",
    "         '10110000': 47,\n",
    "         '10011000': 6,\n",
    "         '01110110': 2,\n",
    "         '11100100': 2,\n",
    "         '11010100': 6,\n",
    "         '11010010': 6,\n",
    "         '01100000': 3,\n",
    "         '11010001': 2,\n",
    "         '11000000': 2,\n",
    "         '01110101': 1})  "
   ]
  },
  {
   "cell_type": "markdown",
   "metadata": {},
   "source": [
    "どうやら$\\alpha$=1.5 辺りで$[1,0,1,1,0]$ の確率が最大となりそうである。  \n",
    "\n",
    "$\\alpha$ = 1.0の場合の次点である$[0,0,1,1,0],[1,0,0,1,1]$は単位数自体が足りていないため、ペナルティ項がうまく影響しきれていない。  \n",
    "$\\alpha$ = 2.0の場合の次点である$[0,1,0,1,0]$は単位数は満たしているものの、最適解より工数が1多いので局所最適解である。 "
   ]
  },
  {
   "cell_type": "code",
   "execution_count": null,
   "metadata": {},
   "outputs": [],
   "source": []
  }
 ],
 "metadata": {
  "kernelspec": {
   "display_name": "Python 3",
   "language": "python",
   "name": "python3"
  },
  "language_info": {
   "codemirror_mode": {
    "name": "ipython",
    "version": 3
   },
   "file_extension": ".py",
   "mimetype": "text/x-python",
   "name": "python",
   "nbconvert_exporter": "python",
   "pygments_lexer": "ipython3",
   "version": "3.6.7"
  },
  "toc": {
   "base_numbering": 1,
   "nav_menu": {},
   "number_sections": true,
   "sideBar": true,
   "skip_h1_title": false,
   "title_cell": "Table of Contents",
   "title_sidebar": "Contents",
   "toc_cell": false,
   "toc_position": {},
   "toc_section_display": true,
   "toc_window_display": false
  }
 },
 "nbformat": 4,
 "nbformat_minor": 2
}
